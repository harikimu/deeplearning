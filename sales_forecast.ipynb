{
 "cells": [
  {
   "cell_type": "code",
   "execution_count": 1,
   "id": "8c55219f",
   "metadata": {},
   "outputs": [
    {
     "name": "stdout",
     "output_type": "stream",
     "text": [
      "Num GPUs Available:  1\n"
     ]
    }
   ],
   "source": [
    "# importing library\n",
    "import tensorflow as tf\n",
    "print(\"Num GPUs Available: \", len(tf.config.experimental.list_physical_devices('GPU')))\n",
    "import pandas as pd\n",
    "from matplotlib import pyplot"
   ]
  },
  {
   "cell_type": "code",
   "execution_count": 2,
   "id": "2d53dd3d",
   "metadata": {},
   "outputs": [],
   "source": [
    "# importing data set\n",
    "SKU = pd.read_csv(\"weekly_sales_per_sku2.csv\")"
   ]
  },
  {
   "cell_type": "code",
   "execution_count": 3,
   "id": "10da7ec2",
   "metadata": {},
   "outputs": [
    {
     "data": {
      "text/plain": [
       "Scode    object\n",
       "Pcode    object\n",
       "Price     int64\n",
       "0         int64\n",
       "1         int64\n",
       "          ...  \n",
       "99        int64\n",
       "100       int64\n",
       "101       int64\n",
       "102       int64\n",
       "103       int64\n",
       "Length: 107, dtype: object"
      ]
     },
     "execution_count": 3,
     "metadata": {},
     "output_type": "execute_result"
    }
   ],
   "source": [
    "# check data types\n",
    "SKU.dtypes"
   ]
  },
  {
   "cell_type": "code",
   "execution_count": 4,
   "id": "798bc2bd",
   "metadata": {},
   "outputs": [],
   "source": [
    "# unpivot\n",
    "SKU = pd.melt(SKU, id_vars=['Scode', 'Pcode', 'Price'], var_name='Week', value_name='Amount')"
   ]
  },
  {
   "cell_type": "code",
   "execution_count": 5,
   "id": "3c9738a6",
   "metadata": {},
   "outputs": [],
   "source": [
    "# creating a variable\n",
    "SKU['GMV']=SKU['Price']*SKU['Amount']"
   ]
  },
  {
   "cell_type": "code",
   "execution_count": 6,
   "id": "8817e316",
   "metadata": {},
   "outputs": [
    {
     "data": {
      "text/plain": [
       "Scode     object\n",
       "Pcode     object\n",
       "Price      int64\n",
       "Week      object\n",
       "Amount     int64\n",
       "GMV        int64\n",
       "dtype: object"
      ]
     },
     "execution_count": 6,
     "metadata": {},
     "output_type": "execute_result"
    }
   ],
   "source": [
    "# check data types\n",
    "SKU.dtypes"
   ]
  },
  {
   "cell_type": "code",
   "execution_count": 7,
   "id": "765f7fc7",
   "metadata": {},
   "outputs": [],
   "source": [
    "SKU = SKU.astype({'Week':'int'})"
   ]
  },
  {
   "cell_type": "code",
   "execution_count": 8,
   "id": "cc791c99",
   "metadata": {},
   "outputs": [
    {
     "data": {
      "text/plain": [
       "Scode     object\n",
       "Pcode     object\n",
       "Price      int64\n",
       "Week       int64\n",
       "Amount     int64\n",
       "GMV        int64\n",
       "dtype: object"
      ]
     },
     "execution_count": 8,
     "metadata": {},
     "output_type": "execute_result"
    }
   ],
   "source": [
    "# check data types\n",
    "SKU.dtypes"
   ]
  },
  {
   "cell_type": "code",
   "execution_count": 9,
   "id": "eb573864",
   "metadata": {
    "scrolled": true
   },
   "outputs": [
    {
     "data": {
      "text/html": [
       "<div>\n",
       "<style scoped>\n",
       "    .dataframe tbody tr th:only-of-type {\n",
       "        vertical-align: middle;\n",
       "    }\n",
       "\n",
       "    .dataframe tbody tr th {\n",
       "        vertical-align: top;\n",
       "    }\n",
       "\n",
       "    .dataframe thead th {\n",
       "        text-align: right;\n",
       "    }\n",
       "</style>\n",
       "<table border=\"1\" class=\"dataframe\">\n",
       "  <thead>\n",
       "    <tr style=\"text-align: right;\">\n",
       "      <th></th>\n",
       "      <th>Scode</th>\n",
       "      <th>Pcode</th>\n",
       "      <th>Price</th>\n",
       "      <th>Week</th>\n",
       "      <th>Amount</th>\n",
       "      <th>GMV</th>\n",
       "    </tr>\n",
       "  </thead>\n",
       "  <tbody>\n",
       "    <tr>\n",
       "      <th>0</th>\n",
       "      <td>Store1</td>\n",
       "      <td>SKU1</td>\n",
       "      <td>24</td>\n",
       "      <td>0</td>\n",
       "      <td>23</td>\n",
       "      <td>552</td>\n",
       "    </tr>\n",
       "    <tr>\n",
       "      <th>1</th>\n",
       "      <td>Store1</td>\n",
       "      <td>SKU2</td>\n",
       "      <td>63</td>\n",
       "      <td>0</td>\n",
       "      <td>23</td>\n",
       "      <td>1449</td>\n",
       "    </tr>\n",
       "    <tr>\n",
       "      <th>2</th>\n",
       "      <td>Store1</td>\n",
       "      <td>SKU3</td>\n",
       "      <td>93</td>\n",
       "      <td>0</td>\n",
       "      <td>7</td>\n",
       "      <td>651</td>\n",
       "    </tr>\n",
       "    <tr>\n",
       "      <th>3</th>\n",
       "      <td>Store1</td>\n",
       "      <td>SKU4</td>\n",
       "      <td>48</td>\n",
       "      <td>0</td>\n",
       "      <td>50</td>\n",
       "      <td>2400</td>\n",
       "    </tr>\n",
       "    <tr>\n",
       "      <th>4</th>\n",
       "      <td>Store1</td>\n",
       "      <td>SKU5</td>\n",
       "      <td>62</td>\n",
       "      <td>0</td>\n",
       "      <td>8</td>\n",
       "      <td>496</td>\n",
       "    </tr>\n",
       "  </tbody>\n",
       "</table>\n",
       "</div>"
      ],
      "text/plain": [
       "    Scode Pcode  Price  Week  Amount   GMV\n",
       "0  Store1  SKU1     24     0      23   552\n",
       "1  Store1  SKU2     63     0      23  1449\n",
       "2  Store1  SKU3     93     0       7   651\n",
       "3  Store1  SKU4     48     0      50  2400\n",
       "4  Store1  SKU5     62     0       8   496"
      ]
     },
     "execution_count": 9,
     "metadata": {},
     "output_type": "execute_result"
    }
   ],
   "source": [
    "# check head\n",
    "SKU.head()"
   ]
  },
  {
   "cell_type": "code",
   "execution_count": 10,
   "id": "426f59da",
   "metadata": {},
   "outputs": [
    {
     "name": "stdout",
     "output_type": "stream",
     "text": [
      "(624000,) (624000,)\n"
     ]
    }
   ],
   "source": [
    "inde_var = SKU['Week']\n",
    "de_var = SKU['Amount']\n",
    "print(inde_var.shape, de_var.shape)"
   ]
  },
  {
   "cell_type": "code",
   "execution_count": 11,
   "id": "332552dc",
   "metadata": {},
   "outputs": [],
   "source": [
    "# creating model structure\n",
    "X = tf.keras.layers.Input(shape=[1]) # 1 is the number of independent variable\n",
    "Y = tf.keras.layers.Dense(1)(X) # 1 is the number of dependent varialbe\n",
    "model = tf.keras.models.Model(X, Y) \n",
    "model.compile(loss='mse') # choose deep learning method (https://durian9s-coding-tree.tistory.com/2)"
   ]
  },
  {
   "cell_type": "code",
   "execution_count": 12,
   "id": "fd76b320",
   "metadata": {},
   "outputs": [
    {
     "data": {
      "image/png": "[encoded data removed]",
      "text/plain": [
       "<Figure size 432x288 with 1 Axes>"
      ]
     },
     "metadata": {
      "needs_background": "light"
     },
     "output_type": "display_data"
    }
   ],
   "source": [
    "pyplot.plot(SKU['Amount'], label='Actual')\n",
    "pyplot.legend()\n",
    "pyplot.show()"
   ]
  },
  {
   "cell_type": "code",
   "execution_count": null,
   "id": "09712eee",
   "metadata": {},
   "outputs": [
    {
     "name": "stdout",
     "output_type": "stream",
     "text": [
      "Epoch 1/1000\n",
      "19500/19500 [==============================] - 51s 3ms/step - loss: 37495.4375\n",
      "Epoch 2/1000\n",
      "19500/19500 [==============================] - 45s 2ms/step - loss: 37358.8398\n",
      "Epoch 3/1000\n",
      "19500/19500 [==============================] - 45s 2ms/step - loss: 37325.7656\n",
      "Epoch 4/1000\n",
      "19500/19500 [==============================] - 45s 2ms/step - loss: 37300.9609\n",
      "Epoch 5/1000\n",
      "19500/19500 [==============================] - 65s 3ms/step - loss: 37283.6250\n",
      "Epoch 6/1000\n",
      "19500/19500 [==============================] - 45s 2ms/step - loss: 37270.0781\n",
      "Epoch 7/1000\n",
      "19500/19500 [==============================] - 52s 3ms/step - loss: 37261.1953\n",
      "Epoch 8/1000\n",
      "19500/19500 [==============================] - 54s 3ms/step - loss: 37254.6719\n",
      "Epoch 9/1000\n",
      "19500/19500 [==============================] - 51s 3ms/step - loss: 37248.9375\n",
      "Epoch 10/1000\n",
      "19500/19500 [==============================] - 47s 2ms/step - loss: 37245.1758\n",
      "Epoch 11/1000\n",
      "14610/19500 [=====================>........] - ETA: 12s - loss: 37789.6875"
     ]
    }
   ],
   "source": [
    "predict = model.fit(inde_var, de_var, epochs=1000)"
   ]
  },
  {
   "cell_type": "code",
   "execution_count": null,
   "id": "6b1d40db",
   "metadata": {},
   "outputs": [],
   "source": [
    "# predict the sales amount in each week\n",
    "predict = model.predict(inde_var)"
   ]
  },
  {
   "cell_type": "code",
   "execution_count": null,
   "id": "7dba1f6b",
   "metadata": {},
   "outputs": [],
   "source": [
    "SKU['predict'] = predict"
   ]
  },
  {
   "cell_type": "code",
   "execution_count": null,
   "id": "2badd504",
   "metadata": {},
   "outputs": [],
   "source": [
    "print(predict)"
   ]
  },
  {
   "cell_type": "code",
   "execution_count": null,
   "id": "31355a4c",
   "metadata": {},
   "outputs": [],
   "source": [
    "SKU.head()"
   ]
  },
  {
   "cell_type": "code",
   "execution_count": null,
   "id": "e2463c2d",
   "metadata": {},
   "outputs": [],
   "source": [
    "pyplot.plot(SKU['Amount'], label='Actual')\n",
    "pyplot.plot(SKU['predict'], label='Predict')\n",
    "pyplot.legend()\n",
    "pyplot.show()"
   ]
  },
  {
   "cell_type": "code",
   "execution_count": null,
   "id": "d6f498bd",
   "metadata": {},
   "outputs": [],
   "source": []
  }
 ],
 "metadata": {
  "kernelspec": {
   "display_name": "Python 3",
   "language": "python",
   "name": "python3"
  },
  "language_info": {
   "codemirror_mode": {
    "name": "ipython",
    "version": 3
   },
   "file_extension": ".py",
   "mimetype": "text/x-python",
   "name": "python",
   "nbconvert_exporter": "python",
   "pygments_lexer": "ipython3",
   "version": "3.8.13"
  }
 },
 "nbformat": 4,
 "nbformat_minor": 5
}
